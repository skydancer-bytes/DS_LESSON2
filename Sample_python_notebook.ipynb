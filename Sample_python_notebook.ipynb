{
  "metadata": {
    "language_info": {
      "codemirror_mode": {
        "name": "python",
        "version": 3
      },
      "file_extension": ".py",
      "mimetype": "text/x-python",
      "name": "python",
      "nbconvert_exporter": "python",
      "pygments_lexer": "ipython3",
      "version": "3.8"
    },
    "kernelspec": {
      "name": "python",
      "display_name": "Python (Pyodide)",
      "language": "python"
    }
  },
  "nbformat_minor": 4,
  "nbformat": 4,
  "cells": [
    {
      "cell_type": "markdown",
      "source": "# Stock prices over time using a Random Forrest",
      "metadata": {}
    },
    {
      "cell_type": "markdown",
      "source": "# Heading1",
      "metadata": {}
    },
    {
      "cell_type": "markdown",
      "source": "## Headings2",
      "metadata": {}
    },
    {
      "cell_type": "markdown",
      "source": "### Headings3",
      "metadata": {}
    },
    {
      "cell_type": "markdown",
      "source": "#### Headings4",
      "metadata": {}
    },
    {
      "cell_type": "code",
      "source": "# This is a piece of code that assigns a number to x\n\nx = 5\n\nx",
      "metadata": {
        "trusted": true
      },
      "execution_count": 4,
      "outputs": [
        {
          "execution_count": 4,
          "output_type": "execute_result",
          "data": {
            "text/plain": "5"
          },
          "metadata": {}
        }
      ]
    },
    {
      "cell_type": "markdown",
      "source": "#### These results show that.....",
      "metadata": {}
    },
    {
      "cell_type": "markdown",
      "source": "The following link opens up wikipedia---[This is the link for python wikipedia](https://en.wikipedia.org/wiki/Python_(programming_language)\n                   \n                   \n                   ",
      "metadata": {}
    },
    {
      "cell_type": "markdown",
      "source": "![Waterfall](https://images.unsplash.com/photo-1593322962878-a4b73deb1e39?ixid=MXwxMjA3fDB8MHx0b3BpYy1mZWVkfDc3NHw2c01WalRMU2tlUXx8ZW58MHx8fA%3D%3D&ixlib=rb-1.2.1&auto=format&fit=crop&w=800&q=60)",
      "metadata": {}
    },
    {
      "cell_type": "markdown",
      "source": "![Picture that i will be using for my portfolio](https://images.unsplash.com/photo-1593322962878-a4b73deb1e39?ixid=MXwxMjA3fDB8MHx0b3BpYy1mZWVkfDc3NHw2c01WalRMU2tlUXx8ZW58MHx8fA%3D%3D&ixlib=rb-1.2.1&auto=format&fit=crop&w=800&q=60)",
      "metadata": {}
    },
    {
      "cell_type": "code",
      "source": "",
      "metadata": {},
      "execution_count": null,
      "outputs": []
    },
    {
      "cell_type": "code",
      "source": "# Importing display and markdown\nfrom IPython.display import display, Markdown\n\nurl = \"https://cms.rootstack.com/sites/default/files/inline-images/Python-Symbol_1.png\"\n\ndisplay(Markdown(f\"![Image]({url})\"))\n",
      "metadata": {
        "trusted": true
      },
      "execution_count": 7,
      "outputs": [
        {
          "output_type": "display_data",
          "data": {
            "text/plain": "<IPython.core.display.Markdown object>",
            "text/markdown": "![Image](https://cms.rootstack.com/sites/default/files/inline-images/Python-Symbol_1.png)"
          },
          "metadata": {}
        }
      ]
    },
    {
      "cell_type": "code",
      "source": "",
      "metadata": {},
      "execution_count": null,
      "outputs": []
    }
  ]
}